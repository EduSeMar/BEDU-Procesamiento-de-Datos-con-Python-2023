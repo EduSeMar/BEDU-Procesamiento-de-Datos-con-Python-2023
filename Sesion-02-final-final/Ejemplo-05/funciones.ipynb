{
 "cells": [
  {
   "cell_type": "markdown",
   "metadata": {},
   "source": [
    "### 0. ¿Qué es una función?\n",
    "\n",
    "Es un objeto que toma un input (entrada), la procesa de alguna forma que nosotros le digamos y nos devuelve una salida (output)"
   ]
  },
  {
   "cell_type": "markdown",
   "metadata": {},
   "source": [
    "## Ejemplo 5: Funciones\n",
    "\n",
    "### 1. Objetivos:\n",
    "    - Entender la sintaxis de las funciones\n",
    "    - Aprender cómo pasarle parámetros (inputs) a las funciones\n",
    "    - Entender cómo aprovechar los valores que regresa el `return`\n",
    "    - Entender el concepto de `contexto` y cómo las variables definidas dentro de la función sólo pueden ser accedidas dentro de la función\n",
    " \n",
    "---\n",
    "    \n",
    "### 2. Desarrollo:"
   ]
  },
  {
   "cell_type": "markdown",
   "metadata": {},
   "source": [
    "Queremos hacer funciones porque queremos evitar repetir código en nuestro programa. En vez de escribir 10 veces el mismo proceso en diferentes lugares de nuestro código, podemos escribir una función que contenga ese proceso y simplemente usarla en los 10 lugares donde suceda ese proceso."
   ]
  },
  {
   "cell_type": "markdown",
   "metadata": {},
   "source": [
    "#### Sintaxis\n",
    "\n",
    "Una función se ve así:\n",
    "\n",
    "def nombre_de_mi_funcion(los_argumentos_de_mi funcion):\n",
    "\n",
    "    calculos que quuiero que haga mi función\n",
    "    \n",
    "    return(lo que quiero que me devuelva)"
   ]
  },
  {
   "cell_type": "code",
   "execution_count": 1,
   "metadata": {},
   "outputs": [],
   "source": [
    "# ejemplo muy sencillo\n",
    "def multiplicar_numero_por_pi(numero):\n",
    "    resultado = numero * 3.14\n",
    "    return resultado\n",
    "\n",
    "# La función se llama 'multiplicar_numero_por_pi'\n",
    "# El input es un número (ó parametro)\n",
    "# El output es el resultado de multiplicar el numero por pi"
   ]
  },
  {
   "cell_type": "code",
   "execution_count": 2,
   "metadata": {},
   "outputs": [
    {
     "data": {
      "text/plain": [
       "25.12"
      ]
     },
     "execution_count": 2,
     "metadata": {},
     "output_type": "execute_result"
    }
   ],
   "source": [
    "# ejecutemos la función en el valor de 8\n",
    "multiplicar_numero_por_pi(8) # 8*3.14"
   ]
  },
  {
   "cell_type": "code",
   "execution_count": 5,
   "metadata": {},
   "outputs": [
    {
     "data": {
      "text/plain": [
       "251.20000000000002"
      ]
     },
     "execution_count": 5,
     "metadata": {},
     "output_type": "execute_result"
    }
   ],
   "source": [
    "# ejecutemos la función en el valor de 80\n",
    "# sólo tengo que cambiar el argumento de la función\n",
    "# es decir lo que está adentro de los paréntesis\n",
    "multiplicar_numero_por_pi(80)"
   ]
  },
  {
   "cell_type": "code",
   "execution_count": 6,
   "metadata": {},
   "outputs": [
    {
     "data": {
      "text/plain": [
       "0.0"
      ]
     },
     "execution_count": 6,
     "metadata": {},
     "output_type": "execute_result"
    }
   ],
   "source": [
    "multiplicar_numero_por_pi(0)"
   ]
  },
  {
   "cell_type": "code",
   "execution_count": 7,
   "metadata": {},
   "outputs": [
    {
     "ename": "TypeError",
     "evalue": "can't multiply sequence by non-int of type 'float'",
     "output_type": "error",
     "traceback": [
      "\u001b[0;31m---------------------------------------------------------------------------\u001b[0m",
      "\u001b[0;31mTypeError\u001b[0m                                 Traceback (most recent call last)",
      "\u001b[0;32m<ipython-input-7-e9afc59ecefc>\u001b[0m in \u001b[0;36m<module>\u001b[0;34m\u001b[0m\n\u001b[1;32m      2\u001b[0m \u001b[0;31m# La función multiplicar_numero_por_pi RECIBE numeros\u001b[0m\u001b[0;34m\u001b[0m\u001b[0;34m\u001b[0m\u001b[0;34m\u001b[0m\u001b[0m\n\u001b[1;32m      3\u001b[0m \u001b[0;31m# No recibe strings\u001b[0m\u001b[0;34m\u001b[0m\u001b[0;34m\u001b[0m\u001b[0;34m\u001b[0m\u001b[0m\n\u001b[0;32m----> 4\u001b[0;31m \u001b[0mmultiplicar_numero_por_pi\u001b[0m\u001b[0;34m(\u001b[0m\u001b[0;34m\"lalo\"\u001b[0m\u001b[0;34m)\u001b[0m\u001b[0;34m\u001b[0m\u001b[0;34m\u001b[0m\u001b[0m\n\u001b[0m",
      "\u001b[0;32m<ipython-input-1-0102dc6076c7>\u001b[0m in \u001b[0;36mmultiplicar_numero_por_pi\u001b[0;34m(numero)\u001b[0m\n\u001b[1;32m      1\u001b[0m \u001b[0;31m# ejemplo muy sencillo\u001b[0m\u001b[0;34m\u001b[0m\u001b[0;34m\u001b[0m\u001b[0;34m\u001b[0m\u001b[0m\n\u001b[1;32m      2\u001b[0m \u001b[0;32mdef\u001b[0m \u001b[0mmultiplicar_numero_por_pi\u001b[0m\u001b[0;34m(\u001b[0m\u001b[0mnumero\u001b[0m\u001b[0;34m)\u001b[0m\u001b[0;34m:\u001b[0m\u001b[0;34m\u001b[0m\u001b[0;34m\u001b[0m\u001b[0m\n\u001b[0;32m----> 3\u001b[0;31m     \u001b[0mresultado\u001b[0m \u001b[0;34m=\u001b[0m \u001b[0mnumero\u001b[0m \u001b[0;34m*\u001b[0m \u001b[0;36m3.14\u001b[0m\u001b[0;34m\u001b[0m\u001b[0;34m\u001b[0m\u001b[0m\n\u001b[0m\u001b[1;32m      4\u001b[0m     \u001b[0;32mreturn\u001b[0m \u001b[0mresultado\u001b[0m\u001b[0;34m\u001b[0m\u001b[0;34m\u001b[0m\u001b[0m\n\u001b[1;32m      5\u001b[0m \u001b[0;34m\u001b[0m\u001b[0m\n",
      "\u001b[0;31mTypeError\u001b[0m: can't multiply sequence by non-int of type 'float'"
     ]
    }
   ],
   "source": [
    "# Es importante saber la estructura de la función\n",
    "# La función multiplicar_numero_por_pi RECIBE numeros\n",
    "# No recibe strings\n",
    "multiplicar_numero_por_pi(\"lalo\")"
   ]
  },
  {
   "cell_type": "markdown",
   "metadata": {},
   "source": [
    "Es muy importante notar lo siguiente:\n",
    "\n",
    "1. La declaración comienza con la palabra `def`.\n",
    "2. El nombre de la función sigue las mismas convenciones de nombramiento que las variables (snake_case).\n",
    "3. Los `parámetros` de la función van dentro del paréntesis.\n",
    "4. Hay unos `dos puntos (:)` después del paréntesis que indican el inicio del bloque de la función\n",
    "5. El bloque de la función (todos los procesos que se van a llevar a cabo cuando llamemos la función) deben de estar indentados. Lo que está indentado es parte de la función. En cuanto hay una línea que no esté indentada, eso indica que la definición de la función ha terminado.\n",
    "6. Las funciones tienen una sentencia `return` que regresa el resultado de nuestro proceso para que pueda ser utilizado en otras partes de nuestro programa."
   ]
  },
  {
   "cell_type": "markdown",
   "metadata": {},
   "source": [
    "#### Parámetros\n",
    "\n",
    "Los parámetros de una función son los nombres de los valores que le pasamos a la función cada vez que la llamamos. La función utiliza estos parámetros para realizar sus procesos. Estos parámetros son los ingredientes necesarios para que la función lleve a cabo su proceso. Sin parámetros, las funciones harían siempre lo mismo:"
   ]
  },
  {
   "cell_type": "code",
   "execution_count": 8,
   "metadata": {},
   "outputs": [
    {
     "name": "stdout",
     "output_type": "stream",
     "text": [
      "20\n",
      "20\n",
      "20\n"
     ]
    }
   ],
   "source": [
    "# Esta función no tiene parámetros pues tiene vacio lo que\n",
    "# está entre paréntesis\n",
    "def esta_funcion_hace_siempre_lo_mismo():\n",
    "    resultado = 2 * 10\n",
    "    return resultado\n",
    "\n",
    "print(esta_funcion_hace_siempre_lo_mismo())\n",
    "print(esta_funcion_hace_siempre_lo_mismo())\n",
    "print(esta_funcion_hace_siempre_lo_mismo())"
   ]
  },
  {
   "cell_type": "markdown",
   "metadata": {},
   "source": [
    "Vamos a modificar esta función para que el resultado sea distino dependiendo del valor que le pasemos:"
   ]
  },
  {
   "cell_type": "code",
   "execution_count": 9,
   "metadata": {},
   "outputs": [
    {
     "name": "stdout",
     "output_type": "stream",
     "text": [
      "40\n",
      "100\n",
      "660\n"
     ]
    }
   ],
   "source": [
    "def esta_funcion_multiplica_el_argumento_por_10_y_lo_regresa(parametro):\n",
    "    resultado = parametro * 10\n",
    "    return resultado\n",
    "# aplico mi función al 4, 10 y 66\n",
    "print(esta_funcion_multiplica_el_argumento_por_10_y_lo_regresa(4))\n",
    "print(esta_funcion_multiplica_el_argumento_por_10_y_lo_regresa(10))\n",
    "print(esta_funcion_multiplica_el_argumento_por_10_y_lo_regresa(66))"
   ]
  },
  {
   "cell_type": "markdown",
   "metadata": {},
   "source": [
    "Ahora nuestra función tiene mucha más utilidad, ya que es flexible. Tal vez habrás notado que en el nombre de la función usé la palabra `argumento` en vez de `parámetro`. Es un poco confuso pero los `parámetros` son los nombres que se definen para ser utilizados dentro de la función, mientras que los `argumentos` son los valores que le pasamos a la función cuando la llamamos."
   ]
  },
  {
   "cell_type": "markdown",
   "metadata": {},
   "source": [
    "Podemos definir más de un parámetro por función (en realidad el número es ilimitado), pero la mejor práctica es mantener el número de parámetros lo más pequeño posible. Entre menos parámetros usemos, mejor está pensada nuestra función.\n",
    "\n",
    "Veamos una función con dos parámetros:"
   ]
  },
  {
   "cell_type": "code",
   "execution_count": 10,
   "metadata": {},
   "outputs": [],
   "source": [
    "# Esta función tiene 2 parámetros: el primero es una lista\n",
    "# el segundo es un número\n",
    "# esta función le pega un número a la lista, en caso de que\n",
    "# el número sea par\n",
    "# si el número no es par, no pega nada\n",
    "def agregar_numero_a_lista_si_el_numero_es_par(lista, numero):\n",
    "    \n",
    "    if numero % 2 == 0: #si el numero es par\n",
    "        lista.append(numero) # ent pégale dicho número a la lista\n",
    "        \n",
    "    return lista # y me regresas la lista final"
   ]
  },
  {
   "cell_type": "markdown",
   "metadata": {},
   "source": [
    "Pareciera que no pasó nada hasta el momento. Sólo definmos la función, pero no la hemos echado a andar"
   ]
  },
  {
   "cell_type": "code",
   "execution_count": 11,
   "metadata": {},
   "outputs": [
    {
     "data": {
      "text/plain": [
       "[2, 34, 26, 88, 4, 8]"
      ]
     },
     "execution_count": 11,
     "metadata": {},
     "output_type": "execute_result"
    }
   ],
   "source": [
    "# ¿Qué necesito para echarla a andar?\n",
    "# una lista\n",
    "lista_de_ints = [2, 34, 26, 88, 4]\n",
    "# y un número\n",
    "numerillo = 8\n",
    "# ahora sí la echo a andar\n",
    "agregar_numero_a_lista_si_el_numero_es_par(lista_de_ints,numerillo)"
   ]
  },
  {
   "cell_type": "code",
   "execution_count": 12,
   "metadata": {},
   "outputs": [
    {
     "data": {
      "text/plain": [
       "[2, 34, 26, 88, 4, 8]"
      ]
     },
     "execution_count": 12,
     "metadata": {},
     "output_type": "execute_result"
    }
   ],
   "source": [
    "numerillo2 = 9 #que es impar\n",
    "agregar_numero_a_lista_si_el_numero_es_par(lista_de_ints,numerillo2)"
   ]
  },
  {
   "cell_type": "code",
   "execution_count": 13,
   "metadata": {},
   "outputs": [
    {
     "data": {
      "text/plain": [
       "[2, 34, 26, 88, 4, 8, 66]"
      ]
     },
     "execution_count": 13,
     "metadata": {},
     "output_type": "execute_result"
    }
   ],
   "source": [
    "lista_de_ints = agregar_numero_a_lista_si_el_numero_es_par(lista_de_ints, 5)\n",
    "lista_de_ints = agregar_numero_a_lista_si_el_numero_es_par(lista_de_ints, 66)\n",
    "\n",
    "lista_de_ints"
   ]
  },
  {
   "cell_type": "markdown",
   "metadata": {},
   "source": [
    "Esta función recibe una lista y un número, checa si el número es par, y si es par agrega el número a la lista. Finalmente, regresa la lista (que puede estar modificada o no). Como puedes observar, podemos reasignar variables una y otra vez. Cada vez que obtenemos la lista modificada (o no) de la función `agregar_numero_a_lista_si_el_numero_es_par`, la reasignamos a `lista_de_ints` para tener la lista actualizada."
   ]
  },
  {
   "cell_type": "markdown",
   "metadata": {},
   "source": [
    "#### Return\n",
    "\n",
    "Todas las funciones que hemos definido hasta ahora tienen al final una sentencia `return`. `return` regresa el valor que escribimos a su derecha, que normalmente es el resultado del proceso que hemos realizado dentro de la función.\n",
    "\n",
    "Si no hubiera `return`, los procesos que suceden dentro de nuestras funciones se quedarían ahí y no podríamos acceder a los resultados. Eso no sería muy útil que digamos, ¿no es así?\n",
    "\n",
    "El valor que regresa nuestro `return` lo podemos guardar en otra variable para usarlo en el futuro o podemos imprimirlo directamente usando un `print` (aunque es recomendable mejor primero asignarlo a una variable y después imprimir la variable):"
   ]
  },
  {
   "cell_type": "code",
   "execution_count": 15,
   "metadata": {},
   "outputs": [],
   "source": [
    "def regresa_true_si_el_valor_esta_entre_50_y_60(valor):\n",
    "    \n",
    "    if valor > 50:\n",
    "        if valor < 60:\n",
    "            return True\n",
    "    \n",
    "    return False\n",
    "\n",
    "def regresa_true_si_el_valor_esta_entre_50_y_60_bis(valor):\n",
    "    \n",
    "    if valor > 50 and valor < 60:\n",
    "        return True\n",
    "    \n",
    "    return False\n",
    "\n",
    "\n",
    "# echamos a andar la función en los valors 58 y 89\n",
    "resultado_1 = regresa_true_si_el_valor_esta_entre_50_y_60(58)\n",
    "resultado_2 = regresa_true_si_el_valor_esta_entre_50_y_60(89)\n",
    "\n"
   ]
  },
  {
   "cell_type": "code",
   "execution_count": 17,
   "metadata": {},
   "outputs": [
    {
     "data": {
      "text/plain": [
       "True"
      ]
     },
     "execution_count": 17,
     "metadata": {},
     "output_type": "execute_result"
    }
   ],
   "source": [
    "resultado_1"
   ]
  },
  {
   "cell_type": "code",
   "execution_count": 18,
   "metadata": {},
   "outputs": [
    {
     "data": {
      "text/plain": [
       "False"
      ]
     },
     "execution_count": 18,
     "metadata": {},
     "output_type": "execute_result"
    }
   ],
   "source": [
    "resultado_2"
   ]
  },
  {
   "cell_type": "code",
   "execution_count": 19,
   "metadata": {},
   "outputs": [
    {
     "name": "stdout",
     "output_type": "stream",
     "text": [
      "El primer valor es mayor a 50 y menor a 60\n"
     ]
    }
   ],
   "source": [
    "# Sólo para imprimir bonito\n",
    "\n",
    "if resultado_1 == True:\n",
    "    print(\"El primer valor es mayor a 50 y menor a 60\")\n",
    "\n",
    "if resultado_2 == True:\n",
    "    print(\"El segundo valor es mayor a 50 y menor a 60\")"
   ]
  },
  {
   "cell_type": "markdown",
   "metadata": {},
   "source": [
    "En esta función checamos primero si un valor es mayor a 50 (`valor > 50`). Si lo es, checamos ahora que sea menor a 60 (`valor < 60`). Si también lo es, quiere decir que el valor está entre 50 y 60 y la función regresa `True`. Si las condiciones no se cumplen, la función regresa `False`. Los resultado de llamar a las función con los valores `58` y `89` son guardados en variables, que después se utilizan en una nueva condición que determina si una `string` deberá imprimirse o no.\n",
    "\n",
    "¿Puedes ver el potencial de esto?"
   ]
  },
  {
   "cell_type": "markdown",
   "metadata": {},
   "source": [
    "#### Contexto de una variable\n",
    "\n",
    "Para terminar, es importante recordar algo que vimos en el Prework: Las variables definidas dentro de una función (ya sean parámetros o variables asignadas dentro de la función) **sólo pueden ser accedidas dentro de la función**. Una vez que la función termina, las variables desaparecen y no son accesibles desde ninguna parte de nuestro código.\n",
    "\n",
    "Es por eso que este código lanza un error:"
   ]
  },
  {
   "cell_type": "code",
   "execution_count": 20,
   "metadata": {},
   "outputs": [],
   "source": [
    "# Esta función sólo nos dice si dos valores son iguales o no\n",
    "def si_los_valores_son_iguales_regresa_exito(valor_1, valor_2):\n",
    "    \n",
    "    if valor_1 == valor_2:\n",
    "        return \"Éxito\"\n",
    "    else:\n",
    "        return \"Error\""
   ]
  },
  {
   "cell_type": "code",
   "execution_count": 21,
   "metadata": {},
   "outputs": [
    {
     "data": {
      "text/plain": [
       "'Éxito'"
      ]
     },
     "execution_count": 21,
     "metadata": {},
     "output_type": "execute_result"
    }
   ],
   "source": [
    "#Lo echamos a andar en la pareja valor1 = 4, valor2=4\n",
    "resultado = si_los_valores_son_iguales_regresa_exito(4, 4)\n",
    "resultado"
   ]
  },
  {
   "cell_type": "code",
   "execution_count": 22,
   "metadata": {},
   "outputs": [
    {
     "data": {
      "text/plain": [
       "'Error'"
      ]
     },
     "execution_count": 22,
     "metadata": {},
     "output_type": "execute_result"
    }
   ],
   "source": [
    "resultado = si_los_valores_son_iguales_regresa_exito(4, 4000)\n",
    "resultado"
   ]
  },
  {
   "cell_type": "code",
   "execution_count": 23,
   "metadata": {},
   "outputs": [
    {
     "ename": "NameError",
     "evalue": "name 'valor_1' is not defined",
     "output_type": "error",
     "traceback": [
      "\u001b[0;31m---------------------------------------------------------------------------\u001b[0m",
      "\u001b[0;31mNameError\u001b[0m                                 Traceback (most recent call last)",
      "\u001b[0;32m<ipython-input-23-f18463636e8e>\u001b[0m in \u001b[0;36m<module>\u001b[0;34m\u001b[0m\n\u001b[1;32m      1\u001b[0m \u001b[0;31m# Ni la variable valor_1 ni la variable valor_2 existen fuera\u001b[0m\u001b[0;34m\u001b[0m\u001b[0;34m\u001b[0m\u001b[0;34m\u001b[0m\u001b[0m\n\u001b[1;32m      2\u001b[0m \u001b[0;31m# del contexto de la función... veamos\u001b[0m\u001b[0;34m\u001b[0m\u001b[0;34m\u001b[0m\u001b[0;34m\u001b[0m\u001b[0m\n\u001b[0;32m----> 3\u001b[0;31m \u001b[0mvalor_1\u001b[0m\u001b[0;34m\u001b[0m\u001b[0;34m\u001b[0m\u001b[0m\n\u001b[0m",
      "\u001b[0;31mNameError\u001b[0m: name 'valor_1' is not defined"
     ]
    }
   ],
   "source": [
    "# Ni la variable valor_1 ni la variable valor_2 existen fuera\n",
    "# del contexto de la función... veamos\n",
    "valor_1"
   ]
  },
  {
   "cell_type": "markdown",
   "metadata": {},
   "source": [
    "También es por eso que el siguiente código lanza error:"
   ]
  },
  {
   "cell_type": "code",
   "execution_count": 24,
   "metadata": {},
   "outputs": [],
   "source": [
    "def suma_42_a_numero(numero):\n",
    "    \n",
    "    suma = numero + 42\n",
    "    \n",
    "    return suma"
   ]
  },
  {
   "cell_type": "code",
   "execution_count": 25,
   "metadata": {},
   "outputs": [
    {
     "data": {
      "text/plain": [
       "76"
      ]
     },
     "execution_count": 25,
     "metadata": {},
     "output_type": "execute_result"
    }
   ],
   "source": [
    "# la función apliacada al num 34\n",
    "resultado = suma_42_a_numero(34)\n",
    "resultado"
   ]
  },
  {
   "cell_type": "code",
   "execution_count": 26,
   "metadata": {},
   "outputs": [
    {
     "ename": "NameError",
     "evalue": "name 'suma' is not defined",
     "output_type": "error",
     "traceback": [
      "\u001b[0;31m---------------------------------------------------------------------------\u001b[0m",
      "\u001b[0;31mNameError\u001b[0m                                 Traceback (most recent call last)",
      "\u001b[0;32m<ipython-input-26-4b0e31fcc676>\u001b[0m in \u001b[0;36m<module>\u001b[0;34m\u001b[0m\n\u001b[1;32m      1\u001b[0m \u001b[0;31m# No existe la variable suma, excepto en el contexto de la función\u001b[0m\u001b[0;34m\u001b[0m\u001b[0;34m\u001b[0m\u001b[0;34m\u001b[0m\u001b[0m\n\u001b[0;32m----> 2\u001b[0;31m \u001b[0msuma\u001b[0m\u001b[0;34m\u001b[0m\u001b[0;34m\u001b[0m\u001b[0m\n\u001b[0m",
      "\u001b[0;31mNameError\u001b[0m: name 'suma' is not defined"
     ]
    }
   ],
   "source": [
    "# No existe la variable suma, excepto en el contexto de la función\n",
    "suma"
   ]
  },
  {
   "cell_type": "markdown",
   "metadata": {},
   "source": [
    "El parámetro `valor_1` en la primera función y la variable `suma` de la segunda función sólo pueden ser usadas dentro de la función. Si intentamos usarlas fuera de la función, Python se encargará de recordarnos que eso no se puede hacer con un bonito error."
   ]
  },
  {
   "cell_type": "markdown",
   "metadata": {},
   "source": [
    "---\n",
    "\n",
    "Pasemos ahora a lo emocionante. Vamos a definir unas cuantas funciones para dominar esta nueva herramienta tan útil."
   ]
  },
  {
   "cell_type": "code",
   "execution_count": null,
   "metadata": {},
   "outputs": [],
   "source": []
  }
 ],
 "metadata": {
  "kernelspec": {
   "display_name": "Python 3",
   "language": "python",
   "name": "python3"
  },
  "language_info": {
   "codemirror_mode": {
    "name": "ipython",
    "version": 3
   },
   "file_extension": ".py",
   "mimetype": "text/x-python",
   "name": "python",
   "nbconvert_exporter": "python",
   "pygments_lexer": "ipython3",
   "version": "3.9.1"
  }
 },
 "nbformat": 4,
 "nbformat_minor": 4
}
