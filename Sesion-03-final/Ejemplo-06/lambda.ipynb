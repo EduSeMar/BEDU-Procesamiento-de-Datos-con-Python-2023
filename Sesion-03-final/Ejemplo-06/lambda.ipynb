{
 "cells": [
  {
   "cell_type": "markdown",
   "metadata": {},
   "source": [
    "## Ejemplo 6: Lambda\n",
    "\n",
    "### 1. Objetivos:\n",
    "    - Aprender la sintaxis `lambda` para poderla aplicar en `map` y `filter`.\n",
    " \n",
    "---\n",
    "    \n",
    "### 2. Desarrollo:"
   ]
  },
  {
   "cell_type": "markdown",
   "metadata": {},
   "source": [
    "Una función `lambda` se define así:"
   ]
  },
  {
   "cell_type": "code",
   "execution_count": 1,
   "metadata": {},
   "outputs": [
    {
     "data": {
      "text/plain": [
       "<function __main__.<lambda>(x)>"
      ]
     },
     "execution_count": 1,
     "metadata": {},
     "output_type": "execute_result"
    }
   ],
   "source": [
    "lambda x: x * 100"
   ]
  },
  {
   "cell_type": "markdown",
   "metadata": {},
   "source": [
    "Se usa la palabra `lambda`, luego se definen los parámetros, y al final se agrega el cuerpo de la función, que en este caso sólo puede incluir una sola sentencia: la `sentencia return`. No hace falta escribir `return`, `lambda` sabe que tiene que regresar la única línea de código que tiene.\n",
    "\n",
    "Ahora veamos cómo se usaría para revertir nuestra comparación anterior en un `filter`."
   ]
  },
  {
   "cell_type": "code",
   "execution_count": 2,
   "metadata": {},
   "outputs": [],
   "source": [
    "# Defino una función como antes\n",
    "def numero_es_divisible_entre_3(numero):\n",
    "    \n",
    "    if numero % 3 == 0:\n",
    "        return True\n",
    "    else:\n",
    "        return False"
   ]
  },
  {
   "cell_type": "code",
   "execution_count": 5,
   "metadata": {},
   "outputs": [],
   "source": [
    "numeros = [1, 2, 3, 4, 5, 6, 7, 8, 9, 10, 11, 12, 13, 66]"
   ]
  },
  {
   "cell_type": "code",
   "execution_count": 6,
   "metadata": {},
   "outputs": [
    {
     "data": {
      "text/plain": [
       "[1, 2, 4, 5, 7, 8, 10, 11, 13]"
      ]
     },
     "execution_count": 6,
     "metadata": {},
     "output_type": "execute_result"
    }
   ],
   "source": [
    "# Voy a crear una nueva función que me regrese el valor contrario\n",
    "# que la función numero_es_divisible_entre_3\n",
    "# Me quedearé con los que NO son divisibles entres\n",
    "list(filter(lambda x: not numero_es_divisible_entre_3(x), numeros))"
   ]
  },
  {
   "cell_type": "markdown",
   "metadata": {},
   "source": [
    "Como puedes ver, esta sentencia nos regresa todos los números que **no** son divisibles entre 3. Revierte el funcionamiento de la función `numero_es_divisible_entre_3`. Podríamos hacerlo de esta manera, pero requiere de más código:"
   ]
  },
  {
   "cell_type": "code",
   "execution_count": 7,
   "metadata": {},
   "outputs": [],
   "source": [
    "def numero_no_es_divisible_entre_3(numero):\n",
    "    \n",
    "    if not numero_es_divisible_entre_3(numero):\n",
    "        return True\n",
    "    else:\n",
    "        return False"
   ]
  },
  {
   "cell_type": "code",
   "execution_count": 8,
   "metadata": {},
   "outputs": [
    {
     "data": {
      "text/plain": [
       "[1, 2, 4, 5, 7, 8, 10, 11, 13]"
      ]
     },
     "execution_count": 8,
     "metadata": {},
     "output_type": "execute_result"
    }
   ],
   "source": [
    "list(filter(numero_no_es_divisible_entre_3, numeros))"
   ]
  },
  {
   "cell_type": "markdown",
   "metadata": {},
   "source": [
    "Usar una u otra de las opciones dependerá del contexto y de tu criterio. Veamos un par de `lambdas` más:"
   ]
  },
  {
   "cell_type": "code",
   "execution_count": 10,
   "metadata": {},
   "outputs": [
    {
     "data": {
      "text/plain": [
       "['paragaricugtirimicuaro', 'achicoria', 'loquillo', 'moquillo', 'jacaranda']"
      ]
     },
     "execution_count": 10,
     "metadata": {},
     "output_type": "execute_result"
    }
   ],
   "source": [
    "palabras = [\"paragaricugtirimicuaro\",\"achicoria\", \"pasto\", \"sol\", \"loquillo\", \"moquillo\", \"sed\", \"pez\", \"jacaranda\", \"mil\"]\n",
    "\n",
    "list(filter(lambda x: len(x) > 5, palabras))"
   ]
  },
  {
   "cell_type": "code",
   "execution_count": 11,
   "metadata": {},
   "outputs": [
    {
     "data": {
      "text/plain": [
       "[-1, -7, -8, -78, -46, -1, -2, -4]"
      ]
     },
     "execution_count": 11,
     "metadata": {},
     "output_type": "execute_result"
    }
   ],
   "source": [
    "numeros = [3, 5, -1, -7, -8, 4, -78, 5, -46, 56, 98, 9, -1, -2, -4]\n",
    "\n",
    "list(filter(lambda x: x < 0, numeros))"
   ]
  },
  {
   "cell_type": "code",
   "execution_count": 12,
   "metadata": {},
   "outputs": [
    {
     "data": {
      "text/plain": [
       "[3, 5, 4, 5, 56, 98, 9]"
      ]
     },
     "execution_count": 12,
     "metadata": {},
     "output_type": "execute_result"
    }
   ],
   "source": [
    "list(filter(lambda x: not(x < 0), numeros))"
   ]
  },
  {
   "cell_type": "markdown",
   "metadata": {},
   "source": [
    "¡Es hora de nuestro reto final!"
   ]
  }
 ],
 "metadata": {
  "kernelspec": {
   "display_name": "Python 3",
   "language": "python",
   "name": "python3"
  },
  "language_info": {
   "codemirror_mode": {
    "name": "ipython",
    "version": 3
   },
   "file_extension": ".py",
   "mimetype": "text/x-python",
   "name": "python",
   "nbconvert_exporter": "python",
   "pygments_lexer": "ipython3",
   "version": "3.9.1"
  }
 },
 "nbformat": 4,
 "nbformat_minor": 4
}
