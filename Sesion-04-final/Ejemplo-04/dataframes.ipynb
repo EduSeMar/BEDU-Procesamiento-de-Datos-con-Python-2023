{
 "cells": [
  {
   "cell_type": "markdown",
   "metadata": {},
   "source": [
    "## Ejemplo 4: DataFrames\n",
    "\n",
    "### 1. Objetivos:\n",
    "    - Aprender a crear `DataFrames` usando diccionarios de listas\n",
    "    - Aprender a indexar `DataFrames` para obtener subconjuntos de datos\n",
    " \n",
    "---\n",
    "    \n",
    "### 2. Desarrollo:"
   ]
  },
  {
   "cell_type": "code",
   "execution_count": 2,
   "metadata": {},
   "outputs": [],
   "source": [
    "import pandas as pd"
   ]
  },
  {
   "cell_type": "markdown",
   "metadata": {},
   "source": [
    "Los `DataFrames` son entonces estructuras de datos bidimensionales. Tienen filas y columnas. Hay innumerables formas de crear `DataFrames` (si quieren ahondar en el tema, [aquí hay una fuente](https://www.geeksforgeeks.org/different-ways-to-create-pandas-dataframe/) muy completa). Vamos a aprender una de ellas: los diccionarios de listas.\n",
    "\n",
    "Aquí tenemos un diccionario de listas:"
   ]
  },
  {
   "cell_type": "code",
   "execution_count": 3,
   "metadata": {},
   "outputs": [],
   "source": [
    "# Manera muy muy muy rudimentaria\n",
    "# Capturar casi dato por dato el dataframe\n",
    "\n",
    "datos = {\n",
    "    'columna_1': ['valor_fila_0', 'valor_fila_1', 'valor_fila_2', 'valor_fila_3', 'valor_fila_4'],\n",
    "    'columna_2': ['valor_fila_0', 'valor_fila_1', 'valor_fila_2', 'valor_fila_3', 'valor_fila_4'],\n",
    "    'columna_3': ['valor_fila_0', 'valor_fila_1', 'valor_fila_2', 'valor_fila_3', 'valor_fila_4'],\n",
    "    'columna_4': ['valor_fila_0', 'valor_fila_1', 'valor_fila_2', 'valor_fila_3', 'valor_fila_4']\n",
    "}"
   ]
  },
  {
   "cell_type": "markdown",
   "metadata": {},
   "source": [
    "Vamos a convertirlo en un Dataframe, aplicando la función  `DataFrame`:"
   ]
  },
  {
   "cell_type": "code",
   "execution_count": 4,
   "metadata": {},
   "outputs": [
    {
     "data": {
      "text/html": [
       "<div>\n",
       "<style scoped>\n",
       "    .dataframe tbody tr th:only-of-type {\n",
       "        vertical-align: middle;\n",
       "    }\n",
       "\n",
       "    .dataframe tbody tr th {\n",
       "        vertical-align: top;\n",
       "    }\n",
       "\n",
       "    .dataframe thead th {\n",
       "        text-align: right;\n",
       "    }\n",
       "</style>\n",
       "<table border=\"1\" class=\"dataframe\">\n",
       "  <thead>\n",
       "    <tr style=\"text-align: right;\">\n",
       "      <th></th>\n",
       "      <th>columna_1</th>\n",
       "      <th>columna_2</th>\n",
       "      <th>columna_3</th>\n",
       "      <th>columna_4</th>\n",
       "    </tr>\n",
       "  </thead>\n",
       "  <tbody>\n",
       "    <tr>\n",
       "      <th>0</th>\n",
       "      <td>valor_fila_0</td>\n",
       "      <td>valor_fila_0</td>\n",
       "      <td>valor_fila_0</td>\n",
       "      <td>valor_fila_0</td>\n",
       "    </tr>\n",
       "    <tr>\n",
       "      <th>1</th>\n",
       "      <td>valor_fila_1</td>\n",
       "      <td>valor_fila_1</td>\n",
       "      <td>valor_fila_1</td>\n",
       "      <td>valor_fila_1</td>\n",
       "    </tr>\n",
       "    <tr>\n",
       "      <th>2</th>\n",
       "      <td>valor_fila_2</td>\n",
       "      <td>valor_fila_2</td>\n",
       "      <td>valor_fila_2</td>\n",
       "      <td>valor_fila_2</td>\n",
       "    </tr>\n",
       "    <tr>\n",
       "      <th>3</th>\n",
       "      <td>valor_fila_3</td>\n",
       "      <td>valor_fila_3</td>\n",
       "      <td>valor_fila_3</td>\n",
       "      <td>valor_fila_3</td>\n",
       "    </tr>\n",
       "    <tr>\n",
       "      <th>4</th>\n",
       "      <td>valor_fila_4</td>\n",
       "      <td>valor_fila_4</td>\n",
       "      <td>valor_fila_4</td>\n",
       "      <td>valor_fila_4</td>\n",
       "    </tr>\n",
       "  </tbody>\n",
       "</table>\n",
       "</div>"
      ],
      "text/plain": [
       "      columna_1     columna_2     columna_3     columna_4\n",
       "0  valor_fila_0  valor_fila_0  valor_fila_0  valor_fila_0\n",
       "1  valor_fila_1  valor_fila_1  valor_fila_1  valor_fila_1\n",
       "2  valor_fila_2  valor_fila_2  valor_fila_2  valor_fila_2\n",
       "3  valor_fila_3  valor_fila_3  valor_fila_3  valor_fila_3\n",
       "4  valor_fila_4  valor_fila_4  valor_fila_4  valor_fila_4"
      ]
     },
     "execution_count": 4,
     "metadata": {},
     "output_type": "execute_result"
    }
   ],
   "source": [
    "# Creamos un objeto, llamdo df, que es un dataframe\n",
    "# creado a partir del diccionario 'datos'\n",
    "df = pd.DataFrame(datos)\n",
    "\n",
    "df"
   ]
  },
  {
   "cell_type": "markdown",
   "metadata": {},
   "source": [
    "También podemos pasarle explícitamente un índice para cambiar el índice default:"
   ]
  },
  {
   "cell_type": "code",
   "execution_count": 5,
   "metadata": {},
   "outputs": [
    {
     "data": {
      "text/html": [
       "<div>\n",
       "<style scoped>\n",
       "    .dataframe tbody tr th:only-of-type {\n",
       "        vertical-align: middle;\n",
       "    }\n",
       "\n",
       "    .dataframe tbody tr th {\n",
       "        vertical-align: top;\n",
       "    }\n",
       "\n",
       "    .dataframe thead th {\n",
       "        text-align: right;\n",
       "    }\n",
       "</style>\n",
       "<table border=\"1\" class=\"dataframe\">\n",
       "  <thead>\n",
       "    <tr style=\"text-align: right;\">\n",
       "      <th></th>\n",
       "      <th>columna_1</th>\n",
       "      <th>columna_2</th>\n",
       "      <th>columna_3</th>\n",
       "      <th>columna_4</th>\n",
       "    </tr>\n",
       "  </thead>\n",
       "  <tbody>\n",
       "    <tr>\n",
       "      <th>a</th>\n",
       "      <td>valor_fila_0</td>\n",
       "      <td>valor_fila_0</td>\n",
       "      <td>valor_fila_0</td>\n",
       "      <td>valor_fila_0</td>\n",
       "    </tr>\n",
       "    <tr>\n",
       "      <th>b</th>\n",
       "      <td>valor_fila_1</td>\n",
       "      <td>valor_fila_1</td>\n",
       "      <td>valor_fila_1</td>\n",
       "      <td>valor_fila_1</td>\n",
       "    </tr>\n",
       "    <tr>\n",
       "      <th>c</th>\n",
       "      <td>valor_fila_2</td>\n",
       "      <td>valor_fila_2</td>\n",
       "      <td>valor_fila_2</td>\n",
       "      <td>valor_fila_2</td>\n",
       "    </tr>\n",
       "    <tr>\n",
       "      <th>d</th>\n",
       "      <td>valor_fila_3</td>\n",
       "      <td>valor_fila_3</td>\n",
       "      <td>valor_fila_3</td>\n",
       "      <td>valor_fila_3</td>\n",
       "    </tr>\n",
       "    <tr>\n",
       "      <th>e</th>\n",
       "      <td>valor_fila_4</td>\n",
       "      <td>valor_fila_4</td>\n",
       "      <td>valor_fila_4</td>\n",
       "      <td>valor_fila_4</td>\n",
       "    </tr>\n",
       "  </tbody>\n",
       "</table>\n",
       "</div>"
      ],
      "text/plain": [
       "      columna_1     columna_2     columna_3     columna_4\n",
       "a  valor_fila_0  valor_fila_0  valor_fila_0  valor_fila_0\n",
       "b  valor_fila_1  valor_fila_1  valor_fila_1  valor_fila_1\n",
       "c  valor_fila_2  valor_fila_2  valor_fila_2  valor_fila_2\n",
       "d  valor_fila_3  valor_fila_3  valor_fila_3  valor_fila_3\n",
       "e  valor_fila_4  valor_fila_4  valor_fila_4  valor_fila_4"
      ]
     },
     "execution_count": 5,
     "metadata": {},
     "output_type": "execute_result"
    }
   ],
   "source": [
    "# cambiamos los índices agregando un argumento index\n",
    "# con la lista de lo que queramos que sean los\n",
    "# indices\n",
    "df = pd.DataFrame(datos, index=['a', 'b', 'c', 'd', 'e'])\n",
    "\n",
    "df"
   ]
  },
  {
   "cell_type": "markdown",
   "metadata": {},
   "source": [
    "Para observar columnas individualmente, usamos el `operador de indexación`, es decir ['nombre_del_renglon], y le pasamos el nombre de la columna:"
   ]
  },
  {
   "cell_type": "code",
   "execution_count": 6,
   "metadata": {},
   "outputs": [
    {
     "data": {
      "text/plain": [
       "a    valor_fila_0\n",
       "b    valor_fila_1\n",
       "c    valor_fila_2\n",
       "d    valor_fila_3\n",
       "e    valor_fila_4\n",
       "Name: columna_1, dtype: object"
      ]
     },
     "execution_count": 6,
     "metadata": {},
     "output_type": "execute_result"
    }
   ],
   "source": [
    "# si queremos acceder a lo que hay en la columna con nombre\n",
    "# columna_1\n",
    "df['columna_1']"
   ]
  },
  {
   "cell_type": "markdown",
   "metadata": {},
   "source": [
    "La columna que obtuvimos es una `Serie` de `pandas` con una propiedad `Name`.\n",
    "\n",
    "También podemos ver más de una columna pasando una `lista` con los nombres de las columnas que queremos en el orden que las queremos:"
   ]
  },
  {
   "cell_type": "code",
   "execution_count": 7,
   "metadata": {},
   "outputs": [
    {
     "data": {
      "text/html": [
       "<div>\n",
       "<style scoped>\n",
       "    .dataframe tbody tr th:only-of-type {\n",
       "        vertical-align: middle;\n",
       "    }\n",
       "\n",
       "    .dataframe tbody tr th {\n",
       "        vertical-align: top;\n",
       "    }\n",
       "\n",
       "    .dataframe thead th {\n",
       "        text-align: right;\n",
       "    }\n",
       "</style>\n",
       "<table border=\"1\" class=\"dataframe\">\n",
       "  <thead>\n",
       "    <tr style=\"text-align: right;\">\n",
       "      <th></th>\n",
       "      <th>columna_3</th>\n",
       "      <th>columna_1</th>\n",
       "    </tr>\n",
       "  </thead>\n",
       "  <tbody>\n",
       "    <tr>\n",
       "      <th>a</th>\n",
       "      <td>valor_fila_0</td>\n",
       "      <td>valor_fila_0</td>\n",
       "    </tr>\n",
       "    <tr>\n",
       "      <th>b</th>\n",
       "      <td>valor_fila_1</td>\n",
       "      <td>valor_fila_1</td>\n",
       "    </tr>\n",
       "    <tr>\n",
       "      <th>c</th>\n",
       "      <td>valor_fila_2</td>\n",
       "      <td>valor_fila_2</td>\n",
       "    </tr>\n",
       "    <tr>\n",
       "      <th>d</th>\n",
       "      <td>valor_fila_3</td>\n",
       "      <td>valor_fila_3</td>\n",
       "    </tr>\n",
       "    <tr>\n",
       "      <th>e</th>\n",
       "      <td>valor_fila_4</td>\n",
       "      <td>valor_fila_4</td>\n",
       "    </tr>\n",
       "  </tbody>\n",
       "</table>\n",
       "</div>"
      ],
      "text/plain": [
       "      columna_3     columna_1\n",
       "a  valor_fila_0  valor_fila_0\n",
       "b  valor_fila_1  valor_fila_1\n",
       "c  valor_fila_2  valor_fila_2\n",
       "d  valor_fila_3  valor_fila_3\n",
       "e  valor_fila_4  valor_fila_4"
      ]
     },
     "execution_count": 7,
     "metadata": {},
     "output_type": "execute_result"
    }
   ],
   "source": [
    "# le pasamos una lista con los nombres de las columnas\n",
    "# que queremos ver\n",
    "df[['columna_3', 'columna_1']]"
   ]
  },
  {
   "cell_type": "markdown",
   "metadata": {},
   "source": [
    "> **Importante**: Usamos las palabras `observar` o `ver` porque indexar columnas no regresa una copia de esas columnas, sino solamente una \"vista\" de esas columnas, como si estuviéramos viéndolas a través de una ventana. Eso quiere decir que los cambios que realicemos a las \"vista\" se verán reflejados en el `DataFrame` original."
   ]
  },
  {
   "cell_type": "markdown",
   "metadata": {},
   "source": [
    "Para indexar filas, podemos usar el operador `loc`.\n",
    "\n",
    "Podemos pedir una sola fila:"
   ]
  },
  {
   "cell_type": "code",
   "execution_count": 8,
   "metadata": {},
   "outputs": [
    {
     "data": {
      "text/html": [
       "<div>\n",
       "<style scoped>\n",
       "    .dataframe tbody tr th:only-of-type {\n",
       "        vertical-align: middle;\n",
       "    }\n",
       "\n",
       "    .dataframe tbody tr th {\n",
       "        vertical-align: top;\n",
       "    }\n",
       "\n",
       "    .dataframe thead th {\n",
       "        text-align: right;\n",
       "    }\n",
       "</style>\n",
       "<table border=\"1\" class=\"dataframe\">\n",
       "  <thead>\n",
       "    <tr style=\"text-align: right;\">\n",
       "      <th></th>\n",
       "      <th>columna_1</th>\n",
       "      <th>columna_2</th>\n",
       "      <th>columna_3</th>\n",
       "      <th>columna_4</th>\n",
       "    </tr>\n",
       "  </thead>\n",
       "  <tbody>\n",
       "    <tr>\n",
       "      <th>a</th>\n",
       "      <td>valor_fila_0</td>\n",
       "      <td>valor_fila_0</td>\n",
       "      <td>valor_fila_0</td>\n",
       "      <td>valor_fila_0</td>\n",
       "    </tr>\n",
       "    <tr>\n",
       "      <th>b</th>\n",
       "      <td>valor_fila_1</td>\n",
       "      <td>valor_fila_1</td>\n",
       "      <td>valor_fila_1</td>\n",
       "      <td>valor_fila_1</td>\n",
       "    </tr>\n",
       "    <tr>\n",
       "      <th>c</th>\n",
       "      <td>valor_fila_2</td>\n",
       "      <td>valor_fila_2</td>\n",
       "      <td>valor_fila_2</td>\n",
       "      <td>valor_fila_2</td>\n",
       "    </tr>\n",
       "    <tr>\n",
       "      <th>d</th>\n",
       "      <td>valor_fila_3</td>\n",
       "      <td>valor_fila_3</td>\n",
       "      <td>valor_fila_3</td>\n",
       "      <td>valor_fila_3</td>\n",
       "    </tr>\n",
       "    <tr>\n",
       "      <th>e</th>\n",
       "      <td>valor_fila_4</td>\n",
       "      <td>valor_fila_4</td>\n",
       "      <td>valor_fila_4</td>\n",
       "      <td>valor_fila_4</td>\n",
       "    </tr>\n",
       "  </tbody>\n",
       "</table>\n",
       "</div>"
      ],
      "text/plain": [
       "      columna_1     columna_2     columna_3     columna_4\n",
       "a  valor_fila_0  valor_fila_0  valor_fila_0  valor_fila_0\n",
       "b  valor_fila_1  valor_fila_1  valor_fila_1  valor_fila_1\n",
       "c  valor_fila_2  valor_fila_2  valor_fila_2  valor_fila_2\n",
       "d  valor_fila_3  valor_fila_3  valor_fila_3  valor_fila_3\n",
       "e  valor_fila_4  valor_fila_4  valor_fila_4  valor_fila_4"
      ]
     },
     "execution_count": 8,
     "metadata": {},
     "output_type": "execute_result"
    }
   ],
   "source": [
    "df"
   ]
  },
  {
   "cell_type": "code",
   "execution_count": 9,
   "metadata": {},
   "outputs": [
    {
     "data": {
      "text/plain": [
       "columna_1    valor_fila_0\n",
       "columna_2    valor_fila_0\n",
       "columna_3    valor_fila_0\n",
       "columna_4    valor_fila_0\n",
       "Name: a, dtype: object"
      ]
     },
     "execution_count": 9,
     "metadata": {},
     "output_type": "execute_result"
    }
   ],
   "source": [
    "# para ver todo lo de la fila con índice 'a'\n",
    "df.loc['a']"
   ]
  },
  {
   "cell_type": "markdown",
   "metadata": {},
   "source": [
    "O podemos pedir varias filas:"
   ]
  },
  {
   "cell_type": "code",
   "execution_count": 10,
   "metadata": {},
   "outputs": [
    {
     "data": {
      "text/html": [
       "<div>\n",
       "<style scoped>\n",
       "    .dataframe tbody tr th:only-of-type {\n",
       "        vertical-align: middle;\n",
       "    }\n",
       "\n",
       "    .dataframe tbody tr th {\n",
       "        vertical-align: top;\n",
       "    }\n",
       "\n",
       "    .dataframe thead th {\n",
       "        text-align: right;\n",
       "    }\n",
       "</style>\n",
       "<table border=\"1\" class=\"dataframe\">\n",
       "  <thead>\n",
       "    <tr style=\"text-align: right;\">\n",
       "      <th></th>\n",
       "      <th>columna_1</th>\n",
       "      <th>columna_2</th>\n",
       "      <th>columna_3</th>\n",
       "      <th>columna_4</th>\n",
       "    </tr>\n",
       "  </thead>\n",
       "  <tbody>\n",
       "    <tr>\n",
       "      <th>c</th>\n",
       "      <td>valor_fila_2</td>\n",
       "      <td>valor_fila_2</td>\n",
       "      <td>valor_fila_2</td>\n",
       "      <td>valor_fila_2</td>\n",
       "    </tr>\n",
       "    <tr>\n",
       "      <th>a</th>\n",
       "      <td>valor_fila_0</td>\n",
       "      <td>valor_fila_0</td>\n",
       "      <td>valor_fila_0</td>\n",
       "      <td>valor_fila_0</td>\n",
       "    </tr>\n",
       "  </tbody>\n",
       "</table>\n",
       "</div>"
      ],
      "text/plain": [
       "      columna_1     columna_2     columna_3     columna_4\n",
       "c  valor_fila_2  valor_fila_2  valor_fila_2  valor_fila_2\n",
       "a  valor_fila_0  valor_fila_0  valor_fila_0  valor_fila_0"
      ]
     },
     "execution_count": 10,
     "metadata": {},
     "output_type": "execute_result"
    }
   ],
   "source": [
    "# las filas con índices 'c' y 'a' (en ese orden)\n",
    "df.loc[['c', 'a']]"
   ]
  },
  {
   "cell_type": "markdown",
   "metadata": {},
   "source": [
    "Podemos pedir rangos también:"
   ]
  },
  {
   "cell_type": "code",
   "execution_count": 11,
   "metadata": {},
   "outputs": [
    {
     "data": {
      "text/html": [
       "<div>\n",
       "<style scoped>\n",
       "    .dataframe tbody tr th:only-of-type {\n",
       "        vertical-align: middle;\n",
       "    }\n",
       "\n",
       "    .dataframe tbody tr th {\n",
       "        vertical-align: top;\n",
       "    }\n",
       "\n",
       "    .dataframe thead th {\n",
       "        text-align: right;\n",
       "    }\n",
       "</style>\n",
       "<table border=\"1\" class=\"dataframe\">\n",
       "  <thead>\n",
       "    <tr style=\"text-align: right;\">\n",
       "      <th></th>\n",
       "      <th>columna_1</th>\n",
       "      <th>columna_2</th>\n",
       "      <th>columna_3</th>\n",
       "      <th>columna_4</th>\n",
       "    </tr>\n",
       "  </thead>\n",
       "  <tbody>\n",
       "    <tr>\n",
       "      <th>b</th>\n",
       "      <td>valor_fila_1</td>\n",
       "      <td>valor_fila_1</td>\n",
       "      <td>valor_fila_1</td>\n",
       "      <td>valor_fila_1</td>\n",
       "    </tr>\n",
       "    <tr>\n",
       "      <th>c</th>\n",
       "      <td>valor_fila_2</td>\n",
       "      <td>valor_fila_2</td>\n",
       "      <td>valor_fila_2</td>\n",
       "      <td>valor_fila_2</td>\n",
       "    </tr>\n",
       "    <tr>\n",
       "      <th>d</th>\n",
       "      <td>valor_fila_3</td>\n",
       "      <td>valor_fila_3</td>\n",
       "      <td>valor_fila_3</td>\n",
       "      <td>valor_fila_3</td>\n",
       "    </tr>\n",
       "    <tr>\n",
       "      <th>e</th>\n",
       "      <td>valor_fila_4</td>\n",
       "      <td>valor_fila_4</td>\n",
       "      <td>valor_fila_4</td>\n",
       "      <td>valor_fila_4</td>\n",
       "    </tr>\n",
       "  </tbody>\n",
       "</table>\n",
       "</div>"
      ],
      "text/plain": [
       "      columna_1     columna_2     columna_3     columna_4\n",
       "b  valor_fila_1  valor_fila_1  valor_fila_1  valor_fila_1\n",
       "c  valor_fila_2  valor_fila_2  valor_fila_2  valor_fila_2\n",
       "d  valor_fila_3  valor_fila_3  valor_fila_3  valor_fila_3\n",
       "e  valor_fila_4  valor_fila_4  valor_fila_4  valor_fila_4"
      ]
     },
     "execution_count": 11,
     "metadata": {},
     "output_type": "execute_result"
    }
   ],
   "source": [
    "# desde el renglón con índice 'b' hasta el final\n",
    "df.loc['b':]"
   ]
  },
  {
   "cell_type": "code",
   "execution_count": 12,
   "metadata": {},
   "outputs": [
    {
     "data": {
      "text/html": [
       "<div>\n",
       "<style scoped>\n",
       "    .dataframe tbody tr th:only-of-type {\n",
       "        vertical-align: middle;\n",
       "    }\n",
       "\n",
       "    .dataframe tbody tr th {\n",
       "        vertical-align: top;\n",
       "    }\n",
       "\n",
       "    .dataframe thead th {\n",
       "        text-align: right;\n",
       "    }\n",
       "</style>\n",
       "<table border=\"1\" class=\"dataframe\">\n",
       "  <thead>\n",
       "    <tr style=\"text-align: right;\">\n",
       "      <th></th>\n",
       "      <th>columna_1</th>\n",
       "      <th>columna_2</th>\n",
       "      <th>columna_3</th>\n",
       "      <th>columna_4</th>\n",
       "    </tr>\n",
       "  </thead>\n",
       "  <tbody>\n",
       "    <tr>\n",
       "      <th>b</th>\n",
       "      <td>valor_fila_1</td>\n",
       "      <td>valor_fila_1</td>\n",
       "      <td>valor_fila_1</td>\n",
       "      <td>valor_fila_1</td>\n",
       "    </tr>\n",
       "    <tr>\n",
       "      <th>c</th>\n",
       "      <td>valor_fila_2</td>\n",
       "      <td>valor_fila_2</td>\n",
       "      <td>valor_fila_2</td>\n",
       "      <td>valor_fila_2</td>\n",
       "    </tr>\n",
       "    <tr>\n",
       "      <th>d</th>\n",
       "      <td>valor_fila_3</td>\n",
       "      <td>valor_fila_3</td>\n",
       "      <td>valor_fila_3</td>\n",
       "      <td>valor_fila_3</td>\n",
       "    </tr>\n",
       "  </tbody>\n",
       "</table>\n",
       "</div>"
      ],
      "text/plain": [
       "      columna_1     columna_2     columna_3     columna_4\n",
       "b  valor_fila_1  valor_fila_1  valor_fila_1  valor_fila_1\n",
       "c  valor_fila_2  valor_fila_2  valor_fila_2  valor_fila_2\n",
       "d  valor_fila_3  valor_fila_3  valor_fila_3  valor_fila_3"
      ]
     },
     "execution_count": 12,
     "metadata": {},
     "output_type": "execute_result"
    }
   ],
   "source": [
    "# o con rangos\n",
    "# desde b hasta d\n",
    "df.loc['b':'d']"
   ]
  },
  {
   "cell_type": "code",
   "execution_count": 14,
   "metadata": {},
   "outputs": [
    {
     "data": {
      "text/html": [
       "<div>\n",
       "<style scoped>\n",
       "    .dataframe tbody tr th:only-of-type {\n",
       "        vertical-align: middle;\n",
       "    }\n",
       "\n",
       "    .dataframe tbody tr th {\n",
       "        vertical-align: top;\n",
       "    }\n",
       "\n",
       "    .dataframe thead th {\n",
       "        text-align: right;\n",
       "    }\n",
       "</style>\n",
       "<table border=\"1\" class=\"dataframe\">\n",
       "  <thead>\n",
       "    <tr style=\"text-align: right;\">\n",
       "      <th></th>\n",
       "      <th>columna_1</th>\n",
       "      <th>columna_2</th>\n",
       "      <th>columna_3</th>\n",
       "      <th>columna_4</th>\n",
       "    </tr>\n",
       "  </thead>\n",
       "  <tbody>\n",
       "    <tr>\n",
       "      <th>b</th>\n",
       "      <td>valor_fila_1</td>\n",
       "      <td>valor_fila_1</td>\n",
       "      <td>valor_fila_1</td>\n",
       "      <td>valor_fila_1</td>\n",
       "    </tr>\n",
       "    <tr>\n",
       "      <th>c</th>\n",
       "      <td>valor_fila_2</td>\n",
       "      <td>valor_fila_2</td>\n",
       "      <td>valor_fila_2</td>\n",
       "      <td>valor_fila_2</td>\n",
       "    </tr>\n",
       "    <tr>\n",
       "      <th>d</th>\n",
       "      <td>valor_fila_3</td>\n",
       "      <td>valor_fila_3</td>\n",
       "      <td>valor_fila_3</td>\n",
       "      <td>valor_fila_3</td>\n",
       "    </tr>\n",
       "  </tbody>\n",
       "</table>\n",
       "</div>"
      ],
      "text/plain": [
       "      columna_1     columna_2     columna_3     columna_4\n",
       "b  valor_fila_1  valor_fila_1  valor_fila_1  valor_fila_1\n",
       "c  valor_fila_2  valor_fila_2  valor_fila_2  valor_fila_2\n",
       "d  valor_fila_3  valor_fila_3  valor_fila_3  valor_fila_3"
      ]
     },
     "execution_count": 14,
     "metadata": {},
     "output_type": "execute_result"
    }
   ],
   "source": [
    "df['b':'d']"
   ]
  },
  {
   "cell_type": "markdown",
   "metadata": {},
   "source": [
    "Podemos pasarle un segundo argumento a `loc` para seleccionar solamente algunas columnas de las filas que pedimos. En este caso estamos pidiendo la columna 'columna_2' de la fila 'b', por lo que obtenemos un solo valor:"
   ]
  },
  {
   "cell_type": "code",
   "execution_count": 15,
   "metadata": {},
   "outputs": [
    {
     "data": {
      "text/plain": [
       "'valor_fila_1'"
      ]
     },
     "execution_count": 15,
     "metadata": {},
     "output_type": "execute_result"
    }
   ],
   "source": [
    "df.loc['b', 'columna_2'] # el sistema renglon/columa"
   ]
  },
  {
   "cell_type": "markdown",
   "metadata": {},
   "source": [
    "También podemos pedir múltiples filas y columnas:"
   ]
  },
  {
   "cell_type": "code",
   "execution_count": 19,
   "metadata": {},
   "outputs": [
    {
     "data": {
      "text/html": [
       "<div>\n",
       "<style scoped>\n",
       "    .dataframe tbody tr th:only-of-type {\n",
       "        vertical-align: middle;\n",
       "    }\n",
       "\n",
       "    .dataframe tbody tr th {\n",
       "        vertical-align: top;\n",
       "    }\n",
       "\n",
       "    .dataframe thead th {\n",
       "        text-align: right;\n",
       "    }\n",
       "</style>\n",
       "<table border=\"1\" class=\"dataframe\">\n",
       "  <thead>\n",
       "    <tr style=\"text-align: right;\">\n",
       "      <th></th>\n",
       "      <th>columna_4</th>\n",
       "      <th>columna_2</th>\n",
       "      <th>columna_3</th>\n",
       "    </tr>\n",
       "  </thead>\n",
       "  <tbody>\n",
       "    <tr>\n",
       "      <th>e</th>\n",
       "      <td>valor_fila_4</td>\n",
       "      <td>valor_fila_4</td>\n",
       "      <td>valor_fila_4</td>\n",
       "    </tr>\n",
       "    <tr>\n",
       "      <th>c</th>\n",
       "      <td>valor_fila_2</td>\n",
       "      <td>valor_fila_2</td>\n",
       "      <td>valor_fila_2</td>\n",
       "    </tr>\n",
       "    <tr>\n",
       "      <th>a</th>\n",
       "      <td>valor_fila_0</td>\n",
       "      <td>valor_fila_0</td>\n",
       "      <td>valor_fila_0</td>\n",
       "    </tr>\n",
       "  </tbody>\n",
       "</table>\n",
       "</div>"
      ],
      "text/plain": [
       "      columna_4     columna_2     columna_3\n",
       "e  valor_fila_4  valor_fila_4  valor_fila_4\n",
       "c  valor_fila_2  valor_fila_2  valor_fila_2\n",
       "a  valor_fila_0  valor_fila_0  valor_fila_0"
      ]
     },
     "execution_count": 19,
     "metadata": {},
     "output_type": "execute_result"
    }
   ],
   "source": [
    "df.loc[['e', 'c', 'a'], ['columna_4', 'columna_2', 'columna_3']]\n",
    "# el sistema renglon/columna"
   ]
  },
  {
   "cell_type": "markdown",
   "metadata": {},
   "source": [
    "¡Vayamos a practicar esto en un Reto!"
   ]
  }
 ],
 "metadata": {
  "kernelspec": {
   "display_name": "Python 3",
   "language": "python",
   "name": "python3"
  },
  "language_info": {
   "codemirror_mode": {
    "name": "ipython",
    "version": 3
   },
   "file_extension": ".py",
   "mimetype": "text/x-python",
   "name": "python",
   "nbconvert_exporter": "python",
   "pygments_lexer": "ipython3",
   "version": "3.9.1"
  }
 },
 "nbformat": 4,
 "nbformat_minor": 4
}
